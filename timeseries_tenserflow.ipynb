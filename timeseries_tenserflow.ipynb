{
 "cells": [
  {
   "cell_type": "code",
   "execution_count": 1,
   "metadata": {},
   "outputs": [],
   "source": [
    "import tensorflow as tf\n",
    "import pandas as pd\n",
    "import numpy as np\n",
    "import os\n",
    "import matplotlib\n",
    "import matplotlib.pyplot as plt\n",
    "import random\n",
    "%matplotlib inline\n",
    "import shutil\n",
    "import tensorflow.contrib.learn as tflearn\n",
    "import tensorflow.contrib.layers as tflayers\n",
    "from tensorflow.contrib.learn.python.learn import learn_runner\n",
    "import tensorflow.contrib.metrics as metrics\n",
    "import tensorflow.contrib.rnn as rnn\n",
    "\n",
    "import import_data"
   ]
  },
  {
   "cell_type": "code",
   "execution_count": 14,
   "metadata": {},
   "outputs": [
    {
     "name": "stdout",
     "output_type": "stream",
     "text": [
      "              date_         store    department          item    unit_price  \\\n",
      "count  1.352325e+06  1.352325e+06  1.352325e+06  1.352325e+06  1.352325e+06   \n",
      "mean   2.010075e+07  4.261672e+02  2.937067e+00  3.693021e+05  7.734264e+00   \n",
      "std    8.120917e+03  9.422551e+01  9.734246e-01  1.883151e+05  6.902699e+00   \n",
      "min    2.009010e+07  3.150000e+02  1.000000e+00  3.683000e+03  2.000000e-02   \n",
      "25%    2.009101e+07  3.640000e+02  2.000000e+00  1.947810e+05  3.000000e+00   \n",
      "50%    2.010071e+07  4.010000e+02  3.000000e+00  4.317140e+05  5.940000e+00   \n",
      "75%    2.011040e+07  4.420000e+02  4.000000e+00  5.321960e+05  1.000000e+01   \n",
      "max    2.011123e+07  6.710000e+02  4.000000e+00  5.931710e+05  1.177500e+02   \n",
      "\n",
      "           quantity  promotion_type  \n",
      "count  1.352325e+06    1.352325e+06  \n",
      "mean   1.977911e+01    1.121441e+00  \n",
      "std    9.989764e+01    2.178190e+00  \n",
      "min    1.500000e+00    0.000000e+00  \n",
      "25%    4.000000e+00    0.000000e+00  \n",
      "50%    9.000000e+00    0.000000e+00  \n",
      "75%    1.950000e+01    0.000000e+00  \n",
      "max    2.337600e+04    6.000000e+00  \n",
      "       date_  store  department    item  unit_price  quantity on_promotion  \\\n",
      "0   20090102    315           2    8598        5.61      12.0            N   \n",
      "1   20090102    315           2   22631       11.88      15.0            N   \n",
      "2   20090102    315           2  102257        9.21       9.0            N   \n",
      "3   20090102    315           2  263929       16.11       6.0            N   \n",
      "4   20090102    315           2  423218       14.91       6.0            N   \n",
      "5   20090102    315           2  516965       14.91       6.0            N   \n",
      "6   20090102    315           2  519483       32.94       6.0            N   \n",
      "7   20090102    315           2  533283        6.00      18.0            N   \n",
      "8   20090102    315           2  540535        6.00       3.0            N   \n",
      "9   20090102    315           2  566299       14.97       3.0            N   \n",
      "10  20090102    315           2  568499        3.00      66.0            N   \n",
      "11  20090102    315           2  570153       11.91      12.0            N   \n",
      "12  20090102    315           3    3683        2.74       2.0            N   \n",
      "13  20090102    315           3   20376        7.94      36.0            N   \n",
      "14  20090102    315           3   90263       11.94       4.0            N   \n",
      "15  20090102    315           3   92418        1.94      50.0            N   \n",
      "16  20090102    315           3   92433        1.94      34.0            N   \n",
      "17  20090102    315           3  108037        1.76      44.0            Y   \n",
      "18  20090102    315           3  194771        3.74      10.0            N   \n",
      "19  20090102    315           3  194781       10.94      28.0            N   \n",
      "20  20090102    315           3  280116        7.94      24.0            N   \n",
      "21  20090102    315           3  346126       18.94       4.0            N   \n",
      "22  20090102    315           3  417014        4.00      14.0            N   \n",
      "23  20090102    315           3  456076        6.94       4.0            N   \n",
      "24  20090102    315           3  515246        3.76     158.0            Y   \n",
      "\n",
      "    promotion_type  \n",
      "0                0  \n",
      "1                0  \n",
      "2                0  \n",
      "3                0  \n",
      "4                0  \n",
      "5                0  \n",
      "6                0  \n",
      "7                0  \n",
      "8                0  \n",
      "9                0  \n",
      "10               0  \n",
      "11               0  \n",
      "12               0  \n",
      "13               0  \n",
      "14               0  \n",
      "15               0  \n",
      "16               0  \n",
      "17               5  \n",
      "18               0  \n",
      "19               0  \n",
      "20               0  \n",
      "21               0  \n",
      "22               0  \n",
      "23               0  \n",
      "24               5  \n",
      "<class 'pandas.core.frame.DataFrame'>\n",
      "Int64Index: 1352325 entries, 0 to 451254\n",
      "Data columns (total 8 columns):\n",
      "date_             1352325 non-null int64\n",
      "store             1352325 non-null int64\n",
      "department        1352325 non-null int64\n",
      "item              1352325 non-null int64\n",
      "unit_price        1352325 non-null float64\n",
      "quantity          1352325 non-null float64\n",
      "on_promotion      1352325 non-null object\n",
      "promotion_type    1352325 non-null int64\n",
      "dtypes: float64(2), int64(5), object(1)\n",
      "memory usage: 92.9+ MB\n",
      "None\n"
     ]
    }
   ],
   "source": [
    "# Get the data and look at it:\n",
    "data = import_data.import_data(\"./hackathon_data/*20*.dat\")\n",
    "\n",
    "print(data.describe())\n",
    "print(data.head(25))\n",
    "print(data.info())"
   ]
  },
  {
   "cell_type": "code",
   "execution_count": 5,
   "metadata": {},
   "outputs": [
    {
     "data": {
      "image/png": "[encoded data removed]",
      "text/plain": [
       "<matplotlib.figure.Figure at 0x7fcf91862780>"
      ]
     },
     "metadata": {},
     "output_type": "display_data"
    },
    {
     "data": {
      "text/plain": [
       "2009-01-02      5.61\n",
       "2009-01-03     15.61\n",
       "2009-01-04     21.22\n",
       "2009-01-05     51.22\n",
       "2009-01-06     56.83\n",
       "2009-01-07     80.83\n",
       "2009-01-08     86.44\n",
       "2009-01-09     96.44\n",
       "2009-01-10    120.44\n",
       "2009-01-11    130.44\n",
       "Freq: D, dtype: float64"
      ]
     },
     "execution_count": 5,
     "metadata": {},
     "output_type": "execute_result"
    }
   ],
   "source": [
    "#f = len(data.date_) / (365 * 3)\n",
    "rng = pd.date_range(start='20090102', end='20111222')\n",
    "data_nodup = data.drop_duplicates(subset='date_')\n",
    "ts = pd.Series(data=data_nodup['unit_price'].tolist(),\n",
    "               index=rng).cumsum()\n",
    "ts.plot(c='r', title='Unit prices over time')\n",
    "plt.show()\n",
    "ts.head(10)"
   ]
  },
  {
   "cell_type": "code",
   "execution_count": 6,
   "metadata": {},
   "outputs": [
    {
     "data": {
      "text/plain": [
       "2009-01-02      5.61\n",
       "2009-01-03     15.61\n",
       "2009-01-04     21.22\n",
       "2009-01-05     51.22\n",
       "2009-01-06     56.83\n",
       "2009-01-07     80.83\n",
       "2009-01-08     86.44\n",
       "2009-01-09     96.44\n",
       "2009-01-10    120.44\n",
       "2009-01-11    130.44\n",
       "Freq: D, dtype: float64"
      ]
     },
     "execution_count": 6,
     "metadata": {},
     "output_type": "execute_result"
    }
   ],
   "source": [
    "ts.head(10)"
   ]
  },
  {
   "cell_type": "code",
   "execution_count": 7,
   "metadata": {},
   "outputs": [
    {
     "name": "stdout",
     "output_type": "stream",
     "text": [
      "54\n",
      "(54, 20, 1)\n",
      "[[[  5.61]\n",
      "  [ 15.61]\n",
      "  [ 21.22]\n",
      "  [ 51.22]\n",
      "  [ 56.83]\n",
      "  [ 80.83]\n",
      "  [ 86.44]\n",
      "  [ 96.44]\n",
      "  [120.44]\n",
      "  [130.44]\n",
      "  [136.05]\n",
      "  [156.05]\n",
      "  [166.05]\n",
      "  [176.05]\n",
      "  [186.05]\n",
      "  [196.05]\n",
      "  [206.05]\n",
      "  [216.05]\n",
      "  [226.05]\n",
      "  [236.05]]\n",
      "\n",
      " [[246.05]\n",
      "  [256.05]\n",
      "  [266.05]\n",
      "  [276.05]\n",
      "  [286.05]\n",
      "  [296.05]\n",
      "  [320.05]\n",
      "  [325.66]\n",
      "  [335.66]\n",
      "  [341.27]\n",
      "  [351.27]\n",
      "  [361.27]\n",
      "  [371.27]\n",
      "  [381.27]\n",
      "  [386.88]\n",
      "  [396.88]\n",
      "  [406.88]\n",
      "  [416.88]\n",
      "  [426.88]\n",
      "  [436.88]]]\n",
      "[[[ 15.61]\n",
      "  [ 21.22]\n",
      "  [ 51.22]\n",
      "  [ 56.83]\n",
      "  [ 80.83]\n",
      "  [ 86.44]\n",
      "  [ 96.44]\n",
      "  [120.44]\n",
      "  [130.44]\n",
      "  [136.05]\n",
      "  [156.05]\n",
      "  [166.05]\n",
      "  [176.05]\n",
      "  [186.05]\n",
      "  [196.05]\n",
      "  [206.05]\n",
      "  [216.05]\n",
      "  [226.05]\n",
      "  [236.05]\n",
      "  [246.05]]\n",
      "\n",
      " [[256.05]\n",
      "  [266.05]\n",
      "  [276.05]\n",
      "  [286.05]\n",
      "  [296.05]\n",
      "  [320.05]\n",
      "  [325.66]\n",
      "  [335.66]\n",
      "  [341.27]\n",
      "  [351.27]\n",
      "  [361.27]\n",
      "  [371.27]\n",
      "  [381.27]\n",
      "  [386.88]\n",
      "  [396.88]\n",
      "  [406.88]\n",
      "  [416.88]\n",
      "  [426.88]\n",
      "  [436.88]\n",
      "  [446.88]]]\n",
      "(54, 20, 1)\n"
     ]
    }
   ],
   "source": [
    "TS = np.array(ts)\n",
    "num_periods = 20\n",
    "f_horizon = 1\n",
    "\n",
    "x_data = ts[:(len(TS) - (len(TS) % num_periods))]\n",
    "x_batches = x_data.values.reshape(-1, 20, 1)\n",
    "\n",
    "y_data = TS[1:(len(TS) - (len(TS) % num_periods)) + f_horizon]\n",
    "y_batches = y_data.reshape(-1, 20, 1)\n",
    "\n",
    "print(len(x_batches))\n",
    "print(x_batches.shape)\n",
    "print(x_batches[0:2])\n",
    "\n",
    "print(y_batches[0:2])\n",
    "print(y_batches.shape)"
   ]
  },
  {
   "cell_type": "code",
   "execution_count": 8,
   "metadata": {},
   "outputs": [
    {
     "name": "stdout",
     "output_type": "stream",
     "text": [
      "(1, 20, 1)\n",
      "[[[16740.  ]\n",
      "  [16752.  ]\n",
      "  [16764.  ]\n",
      "  [16774.  ]\n",
      "  [16784.  ]\n",
      "  [16794.  ]\n",
      "  [16804.  ]\n",
      "  [16816.  ]\n",
      "  [16828.  ]\n",
      "  [16838.  ]\n",
      "  [16848.  ]\n",
      "  [16854.39]\n",
      "  [16924.39]\n",
      "  [16930.78]\n",
      "  [16940.78]\n",
      "  [16947.17]\n",
      "  [16959.17]\n",
      "  [17019.17]\n",
      "  [17029.17]\n",
      "  [17039.17]]]\n"
     ]
    }
   ],
   "source": [
    "# Pull out test data:\n",
    "def test_data(series, forecast, num_periods):\n",
    "    test_x_setup = TS[-(num_periods + forecast):]\n",
    "    testX = test_x_setup[:num_periods].reshape(-1, 20, 1)\n",
    "    testY = TS[-(num_periods):].reshape(-1, 20, 1)\n",
    "    return testX, testY\n",
    "\n",
    "X_test, Y_test = test_data(TS, f_horizon, num_periods)\n",
    "print(X_test.shape)\n",
    "print(X_test)"
   ]
  },
  {
   "cell_type": "code",
   "execution_count": 9,
   "metadata": {},
   "outputs": [],
   "source": [
    "tf.reset_default_graph()\n",
    "\n",
    "num_periods = 20\n",
    "inputs = 1\n",
    "hidden = 100\n",
    "output = 1\n",
    "\n",
    "X = tf.placeholder(tf.float32, [None, num_periods, inputs])\n",
    "y = tf.placeholder(tf.float32, [None, num_periods, output])\n",
    "\n",
    "basic_cell = tf.contrib.rnn.BasicRNNCell(num_units=hidden, activation=tf.nn.relu)\n",
    "rnn_output, states = tf.nn.dynamic_rnn(basic_cell, X, dtype=tf.float32)\n",
    "\n",
    "learning_rate = 0.001\n",
    "\n",
    "stacked_rnn_output = tf.reshape(rnn_output, [-1, hidden])\n",
    "stacked_outputs = tf.layers.dense(stacked_rnn_output, output)\n",
    "outputs = tf.reshape(stacked_outputs, [-1, num_periods, output])\n",
    "\n",
    "loss = tf.reduce_sum(tf.square(outputs - y))\n",
    "optimizer = tf.train.AdamOptimizer(learning_rate=learning_rate)\n",
    "training_op = optimizer.minimize(loss)\n",
    "\n",
    "init = tf.global_variables_initializer()"
   ]
  },
  {
   "cell_type": "code",
   "execution_count": 11,
   "metadata": {},
   "outputs": [
    {
     "name": "stdout",
     "output_type": "stream",
     "text": [
      "0 \tMSE: 104473930000.0\n",
      "100 \tMSE: 2819913200.0\n",
      "200 \tMSE: 1005855700.0\n",
      "300 \tMSE: 70645140.0\n",
      "400 \tMSE: 747573.6\n",
      "500 \tMSE: 327306.62\n",
      "600 \tMSE: 287320.5\n",
      "700 \tMSE: 336765.34\n",
      "800 \tMSE: 277286.97\n",
      "900 \tMSE: 294528.62\n",
      "[[[16758.898]\n",
      "  [16768.434]\n",
      "  [16791.99 ]\n",
      "  [16802.24 ]\n",
      "  [16811.375]\n",
      "  [16809.785]\n",
      "  [16809.475]\n",
      "  [16820.697]\n",
      "  [16847.738]\n",
      "  [16849.275]\n",
      "  [16857.932]\n",
      "  [16872.15 ]\n",
      "  [16915.418]\n",
      "  [16939.475]\n",
      "  [16956.55 ]\n",
      "  [16966.03 ]\n",
      "  [16980.287]\n",
      "  [17028.777]\n",
      "  [17043.477]\n",
      "  [17067.377]]]\n"
     ]
    }
   ],
   "source": [
    "#Implement the model on training data\n",
    "epochs = 1000\n",
    "\n",
    "with tf.Session() as sess:\n",
    "    init.run()\n",
    "    for ep in range(epochs):\n",
    "        sess.run(training_op, feed_dict={X: x_batches,\n",
    "                                        y: y_batches})\n",
    "        if ep % 100 == 0:\n",
    "            mse = loss.eval(feed_dict={X: x_batches,\n",
    "                                      y: y_batches})\n",
    "            print(ep, '\\tMSE:', mse)\n",
    "            \n",
    "    y_pred = sess.run(outputs, feed_dict={X: X_test})\n",
    "    print(y_pred)"
   ]
  },
  {
   "cell_type": "code",
   "execution_count": 13,
   "metadata": {},
   "outputs": [
    {
     "data": {
      "image/png": "[encoded data removed]",
      "text/plain": [
       "<matplotlib.figure.Figure at 0x7fcf8cfb29e8>"
      ]
     },
     "metadata": {},
     "output_type": "display_data"
    }
   ],
   "source": [
    "plt.title(\"Forecast vs Actual\", fontsize=14)\n",
    "plt.plot(pd.Series(np.ravel(Y_test)), \"bo\", markersize=10, label=\"Actual\")\n",
    "plt.plot(pd.Series(np.ravel(y_pred)), \"r.\", markersize=10, label=\"Forecast\")\n",
    "plt.legend(loc=\"upper left\")\n",
    "plt.xlabel(\"Time Periods\")\n",
    "\n",
    "plt.show()"
   ]
  }
 ],
 "metadata": {
  "kernelspec": {
   "display_name": "Python 3",
   "language": "python",
   "name": "python3"
  },
  "language_info": {
   "codemirror_mode": {
    "name": "ipython",
    "version": 3
   },
   "file_extension": ".py",
   "mimetype": "text/x-python",
   "name": "python",
   "nbconvert_exporter": "python",
   "pygments_lexer": "ipython3",
   "version": "3.5.2"
  }
 },
 "nbformat": 4,
 "nbformat_minor": 2
}
