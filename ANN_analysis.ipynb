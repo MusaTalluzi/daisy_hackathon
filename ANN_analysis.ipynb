{
 "cells": [
  {
   "cell_type": "code",
   "execution_count": 1,
   "metadata": {},
   "outputs": [
    {
     "data": {
      "text/html": [
       "<div>\n",
       "<style>\n",
       "    .dataframe thead tr:only-child th {\n",
       "        text-align: right;\n",
       "    }\n",
       "\n",
       "    .dataframe thead th {\n",
       "        text-align: left;\n",
       "    }\n",
       "\n",
       "    .dataframe tbody tr th {\n",
       "        vertical-align: top;\n",
       "    }\n",
       "</style>\n",
       "<table border=\"1\" class=\"dataframe\">\n",
       "  <thead>\n",
       "    <tr style=\"text-align: right;\">\n",
       "      <th></th>\n",
       "      <th>date_</th>\n",
       "      <th>store</th>\n",
       "      <th>department</th>\n",
       "      <th>item</th>\n",
       "      <th>unit_price</th>\n",
       "      <th>quantity</th>\n",
       "      <th>on_promotion</th>\n",
       "      <th>promotion_type</th>\n",
       "    </tr>\n",
       "  </thead>\n",
       "  <tbody>\n",
       "    <tr>\n",
       "      <th>0</th>\n",
       "      <td>20090102</td>\n",
       "      <td>315</td>\n",
       "      <td>2</td>\n",
       "      <td>8598</td>\n",
       "      <td>5.61</td>\n",
       "      <td>12.0</td>\n",
       "      <td>0</td>\n",
       "      <td>0</td>\n",
       "    </tr>\n",
       "    <tr>\n",
       "      <th>1</th>\n",
       "      <td>20090102</td>\n",
       "      <td>315</td>\n",
       "      <td>2</td>\n",
       "      <td>22631</td>\n",
       "      <td>11.88</td>\n",
       "      <td>15.0</td>\n",
       "      <td>0</td>\n",
       "      <td>0</td>\n",
       "    </tr>\n",
       "    <tr>\n",
       "      <th>2</th>\n",
       "      <td>20090102</td>\n",
       "      <td>315</td>\n",
       "      <td>2</td>\n",
       "      <td>102257</td>\n",
       "      <td>9.21</td>\n",
       "      <td>9.0</td>\n",
       "      <td>0</td>\n",
       "      <td>0</td>\n",
       "    </tr>\n",
       "    <tr>\n",
       "      <th>3</th>\n",
       "      <td>20090102</td>\n",
       "      <td>315</td>\n",
       "      <td>2</td>\n",
       "      <td>263929</td>\n",
       "      <td>16.11</td>\n",
       "      <td>6.0</td>\n",
       "      <td>0</td>\n",
       "      <td>0</td>\n",
       "    </tr>\n",
       "    <tr>\n",
       "      <th>4</th>\n",
       "      <td>20090102</td>\n",
       "      <td>315</td>\n",
       "      <td>2</td>\n",
       "      <td>423218</td>\n",
       "      <td>14.91</td>\n",
       "      <td>6.0</td>\n",
       "      <td>0</td>\n",
       "      <td>0</td>\n",
       "    </tr>\n",
       "  </tbody>\n",
       "</table>\n",
       "</div>"
      ],
      "text/plain": [
       "      date_  store  department    item  unit_price  quantity  on_promotion  \\\n",
       "0  20090102    315           2    8598        5.61      12.0             0   \n",
       "1  20090102    315           2   22631       11.88      15.0             0   \n",
       "2  20090102    315           2  102257        9.21       9.0             0   \n",
       "3  20090102    315           2  263929       16.11       6.0             0   \n",
       "4  20090102    315           2  423218       14.91       6.0             0   \n",
       "\n",
       "   promotion_type  \n",
       "0               0  \n",
       "1               0  \n",
       "2               0  \n",
       "3               0  \n",
       "4               0  "
      ]
     },
     "execution_count": 1,
     "metadata": {},
     "output_type": "execute_result"
    }
   ],
   "source": [
    "import import_data\n",
    "import pandas as pd\n",
    "\n",
    "df = import_data.import_data(\"C:/Users/make_/David/random/Data/*20*.dat\")\n",
    "df.head()"
   ]
  },
  {
   "cell_type": "code",
   "execution_count": 2,
   "metadata": {},
   "outputs": [
    {
     "data": {
      "text/html": [
       "<div>\n",
       "<style>\n",
       "    .dataframe thead tr:only-child th {\n",
       "        text-align: right;\n",
       "    }\n",
       "\n",
       "    .dataframe thead th {\n",
       "        text-align: left;\n",
       "    }\n",
       "\n",
       "    .dataframe tbody tr th {\n",
       "        vertical-align: top;\n",
       "    }\n",
       "</style>\n",
       "<table border=\"1\" class=\"dataframe\">\n",
       "  <thead>\n",
       "    <tr style=\"text-align: right;\">\n",
       "      <th></th>\n",
       "      <th>count</th>\n",
       "      <th>mean</th>\n",
       "      <th>std</th>\n",
       "      <th>min</th>\n",
       "      <th>25%</th>\n",
       "      <th>50%</th>\n",
       "      <th>75%</th>\n",
       "      <th>max</th>\n",
       "    </tr>\n",
       "  </thead>\n",
       "  <tbody>\n",
       "    <tr>\n",
       "      <th>date_</th>\n",
       "      <td>1352325.0</td>\n",
       "      <td>2.010075e+07</td>\n",
       "      <td>8120.917226</td>\n",
       "      <td>20090102.00</td>\n",
       "      <td>20091009.0</td>\n",
       "      <td>20100707.00</td>\n",
       "      <td>20110405.0</td>\n",
       "      <td>20111231.00</td>\n",
       "    </tr>\n",
       "    <tr>\n",
       "      <th>store</th>\n",
       "      <td>1352325.0</td>\n",
       "      <td>4.261672e+02</td>\n",
       "      <td>94.225506</td>\n",
       "      <td>315.00</td>\n",
       "      <td>364.0</td>\n",
       "      <td>401.00</td>\n",
       "      <td>442.0</td>\n",
       "      <td>671.00</td>\n",
       "    </tr>\n",
       "    <tr>\n",
       "      <th>department</th>\n",
       "      <td>1352325.0</td>\n",
       "      <td>2.937067e+00</td>\n",
       "      <td>0.973425</td>\n",
       "      <td>1.00</td>\n",
       "      <td>2.0</td>\n",
       "      <td>3.00</td>\n",
       "      <td>4.0</td>\n",
       "      <td>4.00</td>\n",
       "    </tr>\n",
       "    <tr>\n",
       "      <th>item</th>\n",
       "      <td>1352325.0</td>\n",
       "      <td>3.693021e+05</td>\n",
       "      <td>188315.099115</td>\n",
       "      <td>3683.00</td>\n",
       "      <td>194781.0</td>\n",
       "      <td>431714.00</td>\n",
       "      <td>532196.0</td>\n",
       "      <td>593171.00</td>\n",
       "    </tr>\n",
       "    <tr>\n",
       "      <th>unit_price</th>\n",
       "      <td>1352325.0</td>\n",
       "      <td>7.734264e+00</td>\n",
       "      <td>6.902699</td>\n",
       "      <td>0.02</td>\n",
       "      <td>3.0</td>\n",
       "      <td>5.94</td>\n",
       "      <td>10.0</td>\n",
       "      <td>117.75</td>\n",
       "    </tr>\n",
       "    <tr>\n",
       "      <th>quantity</th>\n",
       "      <td>1352325.0</td>\n",
       "      <td>1.977911e+01</td>\n",
       "      <td>99.897643</td>\n",
       "      <td>1.50</td>\n",
       "      <td>4.0</td>\n",
       "      <td>9.00</td>\n",
       "      <td>19.5</td>\n",
       "      <td>23376.00</td>\n",
       "    </tr>\n",
       "    <tr>\n",
       "      <th>on_promotion</th>\n",
       "      <td>1352325.0</td>\n",
       "      <td>2.227556e-01</td>\n",
       "      <td>0.416096</td>\n",
       "      <td>0.00</td>\n",
       "      <td>0.0</td>\n",
       "      <td>0.00</td>\n",
       "      <td>0.0</td>\n",
       "      <td>1.00</td>\n",
       "    </tr>\n",
       "    <tr>\n",
       "      <th>promotion_type</th>\n",
       "      <td>1352325.0</td>\n",
       "      <td>1.121441e+00</td>\n",
       "      <td>2.178190</td>\n",
       "      <td>0.00</td>\n",
       "      <td>0.0</td>\n",
       "      <td>0.00</td>\n",
       "      <td>0.0</td>\n",
       "      <td>6.00</td>\n",
       "    </tr>\n",
       "  </tbody>\n",
       "</table>\n",
       "</div>"
      ],
      "text/plain": [
       "                    count          mean            std          min  \\\n",
       "date_           1352325.0  2.010075e+07    8120.917226  20090102.00   \n",
       "store           1352325.0  4.261672e+02      94.225506       315.00   \n",
       "department      1352325.0  2.937067e+00       0.973425         1.00   \n",
       "item            1352325.0  3.693021e+05  188315.099115      3683.00   \n",
       "unit_price      1352325.0  7.734264e+00       6.902699         0.02   \n",
       "quantity        1352325.0  1.977911e+01      99.897643         1.50   \n",
       "on_promotion    1352325.0  2.227556e-01       0.416096         0.00   \n",
       "promotion_type  1352325.0  1.121441e+00       2.178190         0.00   \n",
       "\n",
       "                       25%          50%         75%          max  \n",
       "date_           20091009.0  20100707.00  20110405.0  20111231.00  \n",
       "store                364.0       401.00       442.0       671.00  \n",
       "department             2.0         3.00         4.0         4.00  \n",
       "item              194781.0    431714.00    532196.0    593171.00  \n",
       "unit_price             3.0         5.94        10.0       117.75  \n",
       "quantity               4.0         9.00        19.5     23376.00  \n",
       "on_promotion           0.0         0.00         0.0         1.00  \n",
       "promotion_type         0.0         0.00         0.0         6.00  "
      ]
     },
     "execution_count": 2,
     "metadata": {},
     "output_type": "execute_result"
    }
   ],
   "source": [
    "df.describe().transpose()"
   ]
  },
  {
   "cell_type": "code",
   "execution_count": 3,
   "metadata": {},
   "outputs": [
    {
     "data": {
      "text/plain": [
       "(1352325, 8)"
      ]
     },
     "execution_count": 3,
     "metadata": {},
     "output_type": "execute_result"
    }
   ],
   "source": [
    "df.shape"
   ]
  },
  {
   "cell_type": "code",
   "execution_count": 4,
   "metadata": {
    "collapsed": true
   },
   "outputs": [],
   "source": [
    "X = df.drop(['date_', 'store', 'quantity', 'on_promotion'], axis = 1)\n",
    "y = df['quantity']"
   ]
  },
  {
   "cell_type": "code",
   "execution_count": 7,
   "metadata": {
    "collapsed": true
   },
   "outputs": [],
   "source": [
    "from sklearn.model_selection import train_test_split\n",
    "X_train, X_test, y_train, y_test = train_test_split(X, y)"
   ]
  },
  {
   "cell_type": "code",
   "execution_count": 49,
   "metadata": {},
   "outputs": [
    {
     "name": "stdout",
     "output_type": "stream",
     "text": [
      "[  9.399192     5.12716729   5.46628011 ...,  12.00561319   9.31467499\n",
      "  22.49049941]\n",
      "[ 15.   4.   6. ...,   6.   9.  39.]\n",
      "[  8.   8.   8. ...,  88.  11.   8.]\n"
     ]
    }
   ],
   "source": [
    "import import_data\n",
    "import numpy as np\n",
    "import matplotlib.pyplot as plt\n",
    "from sklearn.model_selection import train_test_split\n",
    "from sklearn.preprocessing import StandardScaler\n",
    "from sklearn.neural_network import MLPRegressor\n",
    "from sklearn.metrics import classification_report,confusion_matrix\n",
    "\n",
    "df = import_data.import_data(\"C:/Users/make_/David/random/Data/*20*.dat\")\n",
    "df.head()\n",
    "df.describe().transpose()\n",
    "#X = df.drop(['date_', 'store', 'quantity', 'on_promotion'], axis = 1)\n",
    "X = df[['department', 'promotion_type', 'unit_price']]\n",
    "y = np.asarray(df['quantity'], dtype = \"S32\")\n",
    "y = y.astype('float64')\n",
    "X_train, X_test, y_train, y_test = train_test_split(X, y)\n",
    "scaler = StandardScaler()\n",
    "scaler.fit(X_train)\n",
    "StandardScaler(copy=True, with_mean=True, with_std=True)\n",
    "# Now apply the transformations to the data:\n",
    "X_train = scaler.transform(X_train)\n",
    "X_test = scaler.transform(X_test)\n",
    "mlp = MLPRegressor(hidden_layer_sizes=(25, 25, 25),  activation='relu', solver='adam', random_state=9, max_iter=1000)\n",
    "mlp.fit(X_train,y_train)\n",
    "predictions = mlp.predict(X_test)\n",
    "print(predictions)\n",
    "print(y_test)\n",
    "#print(confusion_matrix(y_test, predictions))\n",
    "#print(classification_report(y_test, predictions))\n",
    "df_out = import_data.import_data(\"C:/Users/make_/David/random/Data/hackathon_result.dat\")\n",
    "X_out = df_out[['department', 'promotion_type', 'unit_price']]\n",
    "scaler.fit(X_out)\n",
    "X_out= scaler.transform(X_out)\n",
    "y_out = mlp.predict(X_out)\n",
    "for i in range(len(y_out)):\n",
    "    y_out[i] = int(round(y_out[i]))\n",
    "print(y_out)"
   ]
  },
  {
   "cell_type": "code",
   "execution_count": 50,
   "metadata": {},
   "outputs": [
    {
     "data": {
      "text/plain": [
       "0.11945044536680827"
      ]
     },
     "execution_count": 50,
     "metadata": {},
     "output_type": "execute_result"
    }
   ],
   "source": [
    "mlp.score(X_test, y_test)"
   ]
  },
  {
   "cell_type": "code",
   "execution_count": 51,
   "metadata": {},
   "outputs": [
    {
     "data": {
      "image/png": "[encoded data removed]",
      "text/plain": [
       "<matplotlib.figure.Figure at 0x1dc03475cf8>"
      ]
     },
     "metadata": {},
     "output_type": "display_data"
    }
   ],
   "source": [
    "plt.scatter(X_test[:, 2], y_test)\n",
    "plt.scatter(X_test[:, 2], predictions)\n",
    "plt.show()"
   ]
  },
  {
   "cell_type": "code",
   "execution_count": 52,
   "metadata": {},
   "outputs": [
    {
     "data": {
      "text/plain": [
       "(33722,)"
      ]
     },
     "execution_count": 52,
     "metadata": {},
     "output_type": "execute_result"
    }
   ],
   "source": [
    "y_out.shape"
   ]
  },
  {
   "cell_type": "code",
   "execution_count": null,
   "metadata": {
    "collapsed": true
   },
   "outputs": [],
   "source": []
  }
 ],
 "metadata": {
  "kernelspec": {
   "display_name": "Python 3",
   "language": "python",
   "name": "python3"
  },
  "language_info": {
   "codemirror_mode": {
    "name": "ipython",
    "version": 3
   },
   "file_extension": ".py",
   "mimetype": "text/x-python",
   "name": "python",
   "nbconvert_exporter": "python",
   "pygments_lexer": "ipython3",
   "version": "3.6.3"
  }
 },
 "nbformat": 4,
 "nbformat_minor": 2
}
